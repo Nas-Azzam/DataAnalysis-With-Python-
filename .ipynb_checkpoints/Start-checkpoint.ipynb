{
 "cells": [
  {
   "cell_type": "code",
   "execution_count": 10,
   "metadata": {},
   "outputs": [
    {
     "name": "stdout",
     "output_type": "stream",
     "text": [
      "hello\n",
      "yout name is :  asd  with age :  12\n"
     ]
    }
   ],
   "source": [
    "print('hello')\n",
    "name=input('whsat is your naem > ')\n",
    "age = input('how old are u > ')\n",
    "print('yout name is : ',name , ' , with age : ',age)"
   ]
  },
  {
   "cell_type": "code",
   "execution_count": 17,
   "metadata": {},
   "outputs": [
    {
     "name": "stdout",
     "output_type": "stream",
     "text": [
      "<class 'int'>\n",
      "False\n",
      "True\n"
     ]
    }
   ],
   "source": [
    "age_of_user = 18\n",
    "age_of_user1 = 18\n",
    "your_age  = input('how old are you? ')\n",
    "your_age= int(your_age)\n",
    "print(type(your_age))\n",
    "print(age_of_user==your_age)\n",
    "your_age1  = input('how old are you? ')\n",
    "your_age1= int(your_age1)\n",
    "print(your_age1>=age_of_user1)"
   ]
  },
  {
   "cell_type": "code",
   "execution_count": 21,
   "metadata": {},
   "outputs": [
    {
     "name": "stdout",
     "output_type": "stream",
     "text": [
      "you fail\n"
     ]
    }
   ],
   "source": [
    "percentage_Pass = 45\n",
    "my_percentage =int(input('Enter your percentage:'))\n",
    "\n",
    "if my_percentage >= percentage_Pass :\n",
    " print('you Pass')\n",
    "else:\n",
    " print('you fail') \n",
    "\n"
   ]
  },
  {
   "cell_type": "code",
   "execution_count": 29,
   "metadata": {},
   "outputs": [
    {
     "name": "stdout",
     "output_type": "stream",
     "text": [
      "Your age is too low\n"
     ]
    }
   ],
   "source": [
    "# def function ():\n",
    "\n",
    "#  print('something')\n",
    "#  text = \"something\"\n",
    "\n",
    "#  return text,type(text)\n",
    "# function()\n",
    "\n",
    "def age_eligibility(age):\n",
    " if age<=5:\n",
    "  print('Your age is too low')\n",
    " elif age>= 18:\n",
    "  print(' you are eligable')\n",
    "age_eligibility(3)"
   ]
  },
  {
   "cell_type": "code",
   "execution_count": 38,
   "metadata": {},
   "outputs": [
    {
     "name": "stdout",
     "output_type": "stream",
     "text": [
      "m\n",
      "tu\n",
      "w\n"
     ]
    }
   ],
   "source": [
    "# While and for loop\n",
    "\n",
    "# x=0\n",
    "# while (x <= 3):\n",
    "#  print(x)\n",
    "#  x = x+1\n",
    "\n",
    "# for i in range (3,5):\n",
    "#  print(i)\n",
    "\n",
    "days = ['m','tu','w','t','f','s','su']\n",
    "for d in days:\n",
    " if d=='t':break\n",
    " # if d=='t':continue\n",
    " print(d)\n"
   ]
  },
  {
   "cell_type": "code",
   "execution_count": 4,
   "metadata": {},
   "outputs": [
    {
     "data": {
      "text/plain": [
       "((1, 'asdas', 2.2, True), tuple)"
      ]
     },
     "execution_count": 4,
     "metadata": {},
     "output_type": "execute_result"
    }
   ],
   "source": [
    "tup = (1,'asdas',2.2,True)\n",
    "tup,type(tup)\n"
   ]
  },
  {
   "cell_type": "code",
   "execution_count": 7,
   "metadata": {},
   "outputs": [
    {
     "data": {
      "text/plain": [
       "(1, 'asdas', 2.2, True)"
      ]
     },
     "execution_count": 7,
     "metadata": {},
     "output_type": "execute_result"
    }
   ],
   "source": [
    "# tup[1:3]\n",
    "tup[0:]"
   ]
  },
  {
   "cell_type": "markdown",
   "metadata": {},
   "source": []
  },
  {
   "cell_type": "code",
   "execution_count": 54,
   "metadata": {},
   "outputs": [
    {
     "data": {
      "text/plain": [
       "[1, 22, 2.2, True]"
      ]
     },
     "execution_count": 54,
     "metadata": {},
     "output_type": "execute_result"
    }
   ],
   "source": [
    "list = [1,22,2.2,True]\n",
    "list\n"
   ]
  },
  {
   "cell_type": "code",
   "execution_count": 80,
   "metadata": {},
   "outputs": [
    {
     "data": {
      "text/plain": [
       "[1, True, 2.2, 22]"
      ]
     },
     "execution_count": 80,
     "metadata": {},
     "output_type": "execute_result"
    }
   ],
   "source": [
    "list.sort()\n",
    "list"
   ]
  },
  {
   "cell_type": "code",
   "execution_count": 116,
   "metadata": {},
   "outputs": [
    {
     "ename": "AttributeError",
     "evalue": "'dict_keys' object has no attribute 'values'",
     "output_type": "error",
     "traceback": [
      "\u001b[1;31m---------------------------------------------------------------------------\u001b[0m",
      "\u001b[1;31mAttributeError\u001b[0m                            Traceback (most recent call last)",
      "\u001b[1;32m~\\AppData\\Local\\Temp/ipykernel_3724/1715341590.py\u001b[0m in \u001b[0;36m<module>\u001b[1;34m\u001b[0m\n\u001b[0;32m      2\u001b[0m \u001b[0mdic\u001b[0m\u001b[1;33m\u001b[0m\u001b[1;33m\u001b[0m\u001b[0m\n\u001b[0;32m      3\u001b[0m \u001b[1;33m\u001b[0m\u001b[0m\n\u001b[1;32m----> 4\u001b[1;33m \u001b[0mdic\u001b[0m\u001b[1;33m.\u001b[0m\u001b[0mkeys\u001b[0m\u001b[1;33m(\u001b[0m\u001b[1;33m)\u001b[0m\u001b[1;33m.\u001b[0m\u001b[0mvalues\u001b[0m\u001b[1;33m(\u001b[0m\u001b[1;33m)\u001b[0m\u001b[1;33m\u001b[0m\u001b[1;33m\u001b[0m\u001b[0m\n\u001b[0m",
      "\u001b[1;31mAttributeError\u001b[0m: 'dict_keys' object has no attribute 'values'"
     ]
    }
   ],
   "source": [
    "dic = {'name':'Nasrullah Khan','age':20}\n",
    "dic\n",
    "\n",
    "dic.items(),\n",
    "# dic.keys(),\n",
    "# dic.values(),"
   ]
  },
  {
   "cell_type": "code",
   "execution_count": null,
   "metadata": {},
   "outputs": [],
   "source": []
  },
  {
   "cell_type": "code",
   "execution_count": null,
   "metadata": {},
   "outputs": [],
   "source": []
  }
 ],
 "metadata": {
  "interpreter": {
   "hash": "d34d0518b52f1212df95f895eab5acf0ced6712440d8e5fe30f442e814ca3ad8"
  },
  "kernelspec": {
   "display_name": "Python 3 (ipykernel)",
   "language": "python",
   "name": "python3"
  },
  "language_info": {
   "codemirror_mode": {
    "name": "ipython",
    "version": 3
   },
   "file_extension": ".py",
   "mimetype": "text/x-python",
   "name": "python",
   "nbconvert_exporter": "python",
   "pygments_lexer": "ipython3",
   "version": "3.9.7"
  }
 },
 "nbformat": 4,
 "nbformat_minor": 2
}
