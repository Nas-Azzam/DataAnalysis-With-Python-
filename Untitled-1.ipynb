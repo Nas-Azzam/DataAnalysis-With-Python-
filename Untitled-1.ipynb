{
 "cells": [
  {
   "cell_type": "markdown",
   "metadata": {},
   "source": [
    "# Data Types\n",
    "\n",
    "1- cross sectional  \n",
    "\n",
    "2- Time Series\n",
    "\n",
    "3- Univarite\n",
    "\n",
    "4- multivirite\n",
    "\n",
    "5- Categorical\n",
    "\n",
    " Binomial and Multinomial\n",
    "\n",
    "6-Countinous\n",
    "\n",
    "7- Ordinal (variable)\n",
    "\n",
    "8- Rational (Ratio of data [form of countinous  data])\n",
    "\n",
    "9- Dispersion (how much data spread around the mean also called standread deciation   )\n",
    "\n"
   ]
  },
  {
   "cell_type": "markdown",
   "metadata": {},
   "source": [
    "# Data Types\n",
    "\n",
    "1- cross sectional  \n",
    "\n",
    "2- Time Series\n",
    "\n",
    "3- Univarite\n",
    "\n",
    "4- multivirite\n",
    "\n",
    "5- Categorical\n",
    "\n",
    " Binomial and Multinomial\n",
    "\n",
    "6-Countinous\n",
    "\n",
    "7- Ordinal (variable)\n",
    "\n",
    "8- Rational (Ratio of data [form of countinous  data])\n",
    "\n",
    "9- Dispersion (how much data spread around the mean also called standread deciation   )\n",
    "\n"
   ]
  },
  {
   "cell_type": "code",
   "execution_count": null,
   "metadata": {},
   "outputs": [],
   "source": [
    "# median \n",
    "import numpy as np\n",
    "import matplotlib.pyplot as plt\n",
    "import pandas as pd\n",
    "import seaborn as sns\n",
    "# iris dataset\n",
    "\n",
    "pd = pd.read_csv('titanic.csv')\n",
    "# pd.head(10)\n",
    "# pd.median()\n",
    "print(pd.median(),pd.describe())\n",
    "# sns.scatterplot(data=pd.median())"
   ]
  },
  {
   "cell_type": "code",
   "execution_count": null,
   "metadata": {},
   "outputs": [],
   "source": []
  }
 ],
 "metadata": {
  "interpreter": {
   "hash": "b3ba2566441a7c06988d0923437866b63cedc61552a5af99d1f4fb67d367b25f"
  },
  "kernelspec": {
   "display_name": "Python 3.9.7 ('base')",
   "language": "python",
   "name": "python3"
  },
  "language_info": {
   "codemirror_mode": {
    "name": "ipython",
    "version": 3
   },
   "file_extension": ".py",
   "mimetype": "text/x-python",
   "name": "python",
   "nbconvert_exporter": "python",
   "pygments_lexer": "ipython3",
   "version": "3.9.7"
  },
  "orig_nbformat": 4
 },
 "nbformat": 4,
 "nbformat_minor": 2
}
